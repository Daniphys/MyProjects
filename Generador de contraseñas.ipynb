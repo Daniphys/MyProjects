{
 "cells": [
  {
   "cell_type": "code",
   "execution_count": 2,
   "metadata": {},
   "outputs": [
    {
     "name": "stdout",
     "output_type": "stream",
     "text": [
      "Ingrese un número del 1 al 7 de acuerdo a las siguientes especificaciones:\n",
      " 1 sólo números, 2 sólo letras\n",
      " 3 sólo caracteres especiales\n",
      " 4 números y letras 5 números y caracteres especiales\n",
      " 6 letras y caracteres especiales 7- números, letras y caracteres especiales 4\n",
      "Ingrese la longitud de la contraseña: 6\n",
      "Usted ha escogido una contraseña de números y letras\n",
      "La contraseña es: \n",
      "iD48Ds"
     ]
    }
   ],
   "source": [
    "import string\n",
    "import random\n",
    "a=int(input(\"Ingrese un número del 1 al 7 de acuerdo a las siguientes especificaciones:\\n 1 sólo números, 2 sólo letras\\n 3 sólo caracteres especiales\\n 4 números y letras 5 números y caracteres especiales\\n 6 letras y caracteres especiales 7- números, letras y caracteres especiales \"))\n",
    "b=int(input(\"Ingrese la longitud de la contraseña: \"))\n",
    "caract1=list(string.ascii_letters)\n",
    "caract2=list(string.digits)\n",
    "caract3=list(\"°!#$%&/=?¡*¨-_|+}]¿\")\n",
    "if a==1:\n",
    "    print(\"Usted ha escogido una contraseña de sólo números\")\n",
    "    print(\"La contraseña es: \")\n",
    "    for i in range(b):\n",
    "        print(random.choice(caract2), end=\"\")\n",
    "elif a==2:\n",
    "    print(\"Usted ha escogido una contraseña de sólo letras\")\n",
    "    print(\"La contraseña es: \")\n",
    "    for i in range(b):\n",
    "        print(random.choice(caract1), end=\"\")\n",
    "elif a==3:\n",
    "    print(\"Usted ha escogido una contraseña de sólo caracteres especiales\")\n",
    "    print(\"La contraseña es: \") \n",
    "    for i in range(b):\n",
    "        print(random.choice(caract3), end=\"\")\n",
    "elif a==4:\n",
    "    print(\"Usted ha escogido una contraseña de números y letras\")\n",
    "    print(\"La contraseña es: \")\n",
    "    for i in range(b):\n",
    "        print(random.choice((caract2+caract1)), end=\"\")\n",
    "elif a==5:\n",
    "    print(\"Usted ha escogido una contraseña de números y caracteres especiales\")\n",
    "    print(\"La contraseña es: \")\n",
    "    for i in range(b):\n",
    "        print(random.choice((caract2+caract3)), end=\"\")\n",
    "elif a==6:\n",
    "    print(\"Usted ha escogido una contraseña de letras y caracteres especiales\")\n",
    "    print(\"La contraseña es: \")\n",
    "    for i in range(b):\n",
    "        print(random.choice((caract1+caract3)), end=\"\")\n",
    "else:\n",
    "    print(\"Usted ha escogido una contraseña de números, letras y caracteres especiales\")\n",
    "    print(\"La contraseña es: \")\n",
    "    for i in range(b):\n",
    "        print(random.choice((caract1+caract2+caract3)), end=\"\")"
   ]
  },
  {
   "cell_type": "code",
   "execution_count": null,
   "metadata": {},
   "outputs": [],
   "source": []
  }
 ],
 "metadata": {
  "kernelspec": {
   "display_name": "Python 3",
   "language": "python",
   "name": "python3"
  },
  "language_info": {
   "codemirror_mode": {
    "name": "ipython",
    "version": 3
   },
   "file_extension": ".py",
   "mimetype": "text/x-python",
   "name": "python",
   "nbconvert_exporter": "python",
   "pygments_lexer": "ipython3",
   "version": "3.8.3"
  }
 },
 "nbformat": 4,
 "nbformat_minor": 4
}
